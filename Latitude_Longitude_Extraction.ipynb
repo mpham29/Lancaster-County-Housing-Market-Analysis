{
 "cells": [
  {
   "cell_type": "code",
   "execution_count": 2,
   "metadata": {},
   "outputs": [
    {
     "name": "stdout",
     "output_type": "stream",
     "text": [
      "                                    Situs city zip lat lon\n",
      "0      3817 DUDLEY ST, LINCOLN, NE  68503           na  na\n",
      "1  802 N LAKESHORE DR, LINCOLN, NE  68528           na  na\n",
      "2       490 PANAMA RD, MARTELL, NE  68404           na  na\n",
      "3    1208 STARVIEW LN, LINCOLN, NE  68512           na  na\n",
      "4     9400 LARGE'S CT, LINCOLN, NE  68512           na  na\n"
     ]
    }
   ],
   "source": [
    "import requests\n",
    "#import folium\n",
    "import pandas as pd\n",
    "\n",
    "df = pd.read_csv(r'E:\\Fall2023_Address_Only.csv')\n",
    "\n",
    "BASE_URL = \"https://nominatim.openstreetmap.org/search?format=json\"\n",
    "\n",
    "df = df[['Situs']]\n",
    "\n",
    "df['city'] = ''\n",
    "df['zip'] = ''\n",
    "df['lat'] = 'na'\n",
    "df['lon'] = 'na'\n",
    "\n",
    "print(df.head())\n"
   ]
  },
  {
   "cell_type": "code",
   "execution_count": 42,
   "metadata": {},
   "outputs": [
    {
     "name": "stdout",
     "output_type": "stream",
     "text": [
      "                                    Situs      city     zip  \\\n",
      "0      3817 DUDLEY ST, LINCOLN, NE  68503   LINCOLN   68503   \n",
      "1  802 N LAKESHORE DR, LINCOLN, NE  68528   LINCOLN   68528   \n",
      "2       490 PANAMA RD, MARTELL, NE  68404   MARTELL   68404   \n",
      "3    1208 STARVIEW LN, LINCOLN, NE  68512   LINCOLN   68512   \n",
      "4     9400 LARGE'S CT, LINCOLN, NE  68512   LINCOLN   68512   \n",
      "\n",
      "                  lat                 lon                addr  \n",
      "0  40.825578444444446  -96.66587981481482      3817 DUDLEY ST  \n",
      "1   40.82969630114534  -96.74044722145769  802 N LAKESHORE DR  \n",
      "2                  na                  na       490 PANAMA RD  \n",
      "3   40.75890030482155  -96.70395435186813    1208 STARVIEW LN  \n",
      "4   40.71798914143969  -96.68330070791247     9400 LARGE'S CT  \n"
     ]
    }
   ],
   "source": [
    "for index, row in df.iterrows():\n",
    "    if str(row['Situs']) != 'nan':\n",
    "        data = row['Situs'].split(',')\n",
    "        size = len(data)\n",
    "\n",
    "        if(size > 3):\n",
    "            df.at[index,'city'] = data[size - 2]\n",
    "            df.at[index, 'addr'] = data[0]\n",
    "            df.at[index, 'zip'] = data[size-1][-(6):]\n",
    "        else:\n",
    "            df.at[index, 'city'] = data[size - 2]\n",
    "            df.at[index, 'addr'] = data[0]\n",
    "            df.at[index, 'zip'] = data[size-1][-(6):]\n",
    "        response = requests.get(f\"{BASE_URL}&street={df.at[index, 'addr']}&city={df.at[index, 'city']}&state=Nebraska\")\n",
    "        data = response.json()\n",
    "        if data != [] and type(data) is list:\n",
    "            df.at[index, 'lat'] = data[0].get(\"lat\")\n",
    "            df.at[index, 'lon'] = data[0].get(\"lon\")\n",
    "print(df.head())"
   ]
  },
  {
   "cell_type": "code",
   "execution_count": 12,
   "metadata": {},
   "outputs": [],
   "source": [
    "df.to_csv(\"final.csv\",index=False)\n",
    "for index, row in df.iterrows():\n",
    "    if str(row['lat']) != 'nan':\n",
    "        data = str(row['Situs']).split(',')\n",
    "        size = len(data)\n",
    "\n",
    "        if(size > 3):\n",
    "            df.at[index,'city'] = data[size - 2]\n",
    "            df.at[index, 'addr'] = data[0]\n",
    "            df.at[index, 'zip'] = data[size-1][-(6):]\n",
    "        else:\n",
    "            df.at[index, 'city'] = data[size - 2]\n",
    "            df.at[index, 'addr'] = data[0]\n",
    "            df.at[index, 'zip'] = data[size-1][-(6):]\n",
    "        response = requests.get(f\"{BASE_URL}&street={df.at[index, 'addr']}&city={df.at[index, 'city']}&state=Nebraska\")\n",
    "        data = response.json()\n",
    "        if data != [] and type(data) is list:\n",
    "            df.at[index, 'lat'] = data[0].get(\"lat\")\n",
    "            df.at[index, 'lon'] = data[0].get(\"lon\")"
   ]
  },
  {
   "cell_type": "code",
   "execution_count": 13,
   "metadata": {},
   "outputs": [
    {
     "data": {
      "text/html": [
       "<div>\n",
       "<style scoped>\n",
       "    .dataframe tbody tr th:only-of-type {\n",
       "        vertical-align: middle;\n",
       "    }\n",
       "\n",
       "    .dataframe tbody tr th {\n",
       "        vertical-align: top;\n",
       "    }\n",
       "\n",
       "    .dataframe thead th {\n",
       "        text-align: right;\n",
       "    }\n",
       "</style>\n",
       "<table border=\"1\" class=\"dataframe\">\n",
       "  <thead>\n",
       "    <tr style=\"text-align: right;\">\n",
       "      <th></th>\n",
       "      <th>Situs</th>\n",
       "      <th>city</th>\n",
       "      <th>zip</th>\n",
       "      <th>lat</th>\n",
       "      <th>lon</th>\n",
       "      <th>addr</th>\n",
       "    </tr>\n",
       "  </thead>\n",
       "  <tbody>\n",
       "    <tr>\n",
       "      <th>0</th>\n",
       "      <td>3817 DUDLEY ST, LINCOLN, NE  68503</td>\n",
       "      <td>LINCOLN</td>\n",
       "      <td>68503</td>\n",
       "      <td>40.825578444444446</td>\n",
       "      <td>-96.66587981481482</td>\n",
       "      <td>3817 DUDLEY ST</td>\n",
       "    </tr>\n",
       "    <tr>\n",
       "      <th>1</th>\n",
       "      <td>802 N LAKESHORE DR, LINCOLN, NE  68528</td>\n",
       "      <td>LINCOLN</td>\n",
       "      <td>68528</td>\n",
       "      <td>40.82969630114534</td>\n",
       "      <td>-96.74044722145769</td>\n",
       "      <td>802 N LAKESHORE DR</td>\n",
       "    </tr>\n",
       "    <tr>\n",
       "      <th>2</th>\n",
       "      <td>490 PANAMA RD, MARTELL, NE  68404</td>\n",
       "      <td>MARTELL</td>\n",
       "      <td>68404</td>\n",
       "      <td>na</td>\n",
       "      <td>na</td>\n",
       "      <td>490 PANAMA RD</td>\n",
       "    </tr>\n",
       "    <tr>\n",
       "      <th>3</th>\n",
       "      <td>1208 STARVIEW LN, LINCOLN, NE  68512</td>\n",
       "      <td>LINCOLN</td>\n",
       "      <td>68512</td>\n",
       "      <td>40.75890030482155</td>\n",
       "      <td>-96.70395435186813</td>\n",
       "      <td>1208 STARVIEW LN</td>\n",
       "    </tr>\n",
       "    <tr>\n",
       "      <th>4</th>\n",
       "      <td>9400 LARGE'S CT, LINCOLN, NE  68512</td>\n",
       "      <td>LINCOLN</td>\n",
       "      <td>68512</td>\n",
       "      <td>40.71798914143969</td>\n",
       "      <td>-96.68330070791247</td>\n",
       "      <td>9400 LARGE'S CT</td>\n",
       "    </tr>\n",
       "  </tbody>\n",
       "</table>\n",
       "</div>"
      ],
      "text/plain": [
       "                                    Situs      city     zip  \\\n",
       "0      3817 DUDLEY ST, LINCOLN, NE  68503   LINCOLN   68503   \n",
       "1  802 N LAKESHORE DR, LINCOLN, NE  68528   LINCOLN   68528   \n",
       "2       490 PANAMA RD, MARTELL, NE  68404   MARTELL   68404   \n",
       "3    1208 STARVIEW LN, LINCOLN, NE  68512   LINCOLN   68512   \n",
       "4     9400 LARGE'S CT, LINCOLN, NE  68512   LINCOLN   68512   \n",
       "\n",
       "                  lat                 lon                addr  \n",
       "0  40.825578444444446  -96.66587981481482      3817 DUDLEY ST  \n",
       "1   40.82969630114534  -96.74044722145769  802 N LAKESHORE DR  \n",
       "2                  na                  na       490 PANAMA RD  \n",
       "3   40.75890030482155  -96.70395435186813    1208 STARVIEW LN  \n",
       "4   40.71798914143969  -96.68330070791247     9400 LARGE'S CT  "
      ]
     },
     "execution_count": 13,
     "metadata": {},
     "output_type": "execute_result"
    }
   ],
   "source": [
    "df.head()"
   ]
  },
  {
   "cell_type": "code",
   "execution_count": 15,
   "metadata": {},
   "outputs": [],
   "source": [
    "df.to_csv(\"LatLong.csv\",index=False)"
   ]
  }
 ],
 "metadata": {
  "kernelspec": {
   "display_name": "Python 3",
   "language": "python",
   "name": "python3"
  },
  "language_info": {
   "codemirror_mode": {
    "name": "ipython",
    "version": 3
   },
   "file_extension": ".py",
   "mimetype": "text/x-python",
   "name": "python",
   "nbconvert_exporter": "python",
   "pygments_lexer": "ipython3",
   "version": "3.9.13"
  }
 },
 "nbformat": 4,
 "nbformat_minor": 2
}
