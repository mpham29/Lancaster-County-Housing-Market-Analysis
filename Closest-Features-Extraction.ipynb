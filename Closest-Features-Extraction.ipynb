{
 "cells": [
  {
   "cell_type": "code",
   "execution_count": 1,
   "id": "fb7e2f77",
   "metadata": {},
   "outputs": [],
   "source": [
    "import pandas as pd\n",
    "import numpy as np\n",
    "from geopy import distance"
   ]
  },
  {
   "cell_type": "code",
   "execution_count": 2,
   "id": "8f815a20",
   "metadata": {},
   "outputs": [],
   "source": [
    "# coordinates of all features we are basing our calculations on\n",
    "park_coords = [(40.788443, -96.625169), (40.8486364, -96.6265152), (40.802552, -96.683902)] # [(40.788443, -96.625169), (40.8486364, -96.6265152), (40.780881, -96.749507), (40.907023, -96.787442), (40.802552, -96.683902), (40.822195, -96.728384), (40.745823, -96.652667)]\n",
    "downtown_coords = [(40.816252, -96.710022)] # [(40.8091088, -96.700517), (40.816252, -96.710022)] # haymarket and capitol\n",
    "airport_coords = [(40.842782, -96.789832)]\n",
    "mall_coords = [(40.815374, -96.6369813), (40.740345, -96.679056)]\n",
    "golf_coords = [(40.7745297, -96.6340978), (40.8658904, -96.7389314), (40.8425529, -96.6186088), (40.7790217, -96.7712782), (40.7925746, -96.6670068), (40.7791021, -96.6873144), (40.78844, -96.619738), (40.869583, -96.7170281), (40.776931, -96.5927849), (40.7639485, -96.5969219), (40.7448012, -96.6077196), (40.8119722, -96.5457124)]\n",
    "wholesaler_coords = [(40.7398833, -96.6976076), (40.857762, -96.681857), (40.7374095, -96.6009262)]\n",
    "fancy_groceries_coords = [(40.7409727, -96.6748487), (40.8129007, -96.6391536)]"
   ]
  },
  {
   "cell_type": "code",
   "execution_count": 3,
   "id": "44d952b7",
   "metadata": {},
   "outputs": [
    {
     "name": "stdout",
     "output_type": "stream",
     "text": [
      "total entries including na: 38758\n",
      "total entries with lat/lon: 36722\n",
      "total entries with Lancaster lat/lon: 36643\n"
     ]
    }
   ],
   "source": [
    "df = pd.read_csv('FullData.csv')\n",
    "print(\"total entries including na: \" + str(len(df)))\n",
    "\n",
    "df = df[df['lat'] != 'na']\n",
    "print(\"total entries with lat/lon: \" + str(len(df)))\n",
    "\n",
    "df = df[df['lat'].astype(float) >= 40]\n",
    "df = df[df['lat'].astype(float) <= 42]\n",
    "\n",
    "df = df[df['lon'].astype(float) >= -97]\n",
    "df = df[df['lon'].astype(float) <= -96]\n",
    "\n",
    "print(\"total entries with Lancaster lat/lon: \" + str(len(df)))\n",
    "df.reset_index(drop=True, inplace=True)"
   ]
  },
  {
   "cell_type": "code",
   "execution_count": 4,
   "id": "340bda34",
   "metadata": {},
   "outputs": [],
   "source": [
    "df['dist_park'] = 'None'\n",
    "df['dist_downtown'] = 'None'\n",
    "df['dist_airport'] = 'None'\n",
    "df['dist_mall'] = 'None'\n",
    "df['dist_golf'] = 'None'\n",
    "df['dist_wholesaler'] = 'None'\n",
    "df['dist_fancy_grocers'] = 'None'"
   ]
  },
  {
   "cell_type": "code",
   "execution_count": 5,
   "id": "d7fc73fc",
   "metadata": {},
   "outputs": [],
   "source": [
    "#distance with library\n",
    "def dist_with_lib(point1,point2):\n",
    "#     print('distance is ' + str(abs(point1[0]-point2[0]) + abs(point1[1]-point2[1])))\n",
    "#     return abs(point1[0]-point2[0]) + abs(point1[1]-point2[1])\n",
    "    miles = distance.distance(point1,point2).miles\n",
    "    return miles\n",
    "\n",
    "def dist_from_feature(feature_array, current_row):\n",
    "    if(current_row['lat'] != 'na'):\n",
    "        distances = []\n",
    "        for feature in feature_array:\n",
    "                distances.append(dist_with_lib(feature, (float(current_row['lat']), float(current_row['lon']))))\n",
    "        return min(distances)"
   ]
  },
  {
   "cell_type": "code",
   "execution_count": 6,
   "id": "3dd97b03",
   "metadata": {},
   "outputs": [
    {
     "data": {
      "text/html": [
       "<div>\n",
       "<style scoped>\n",
       "    .dataframe tbody tr th:only-of-type {\n",
       "        vertical-align: middle;\n",
       "    }\n",
       "\n",
       "    .dataframe tbody tr th {\n",
       "        vertical-align: top;\n",
       "    }\n",
       "\n",
       "    .dataframe thead th {\n",
       "        text-align: right;\n",
       "    }\n",
       "</style>\n",
       "<table border=\"1\" class=\"dataframe\">\n",
       "  <thead>\n",
       "    <tr style=\"text-align: right;\">\n",
       "      <th></th>\n",
       "      <th>Situs</th>\n",
       "      <th>city</th>\n",
       "      <th>zip</th>\n",
       "      <th>lat</th>\n",
       "      <th>lon</th>\n",
       "      <th>addr</th>\n",
       "      <th>dist_park</th>\n",
       "      <th>dist_downtown</th>\n",
       "      <th>dist_airport</th>\n",
       "      <th>dist_mall</th>\n",
       "      <th>dist_golf</th>\n",
       "      <th>dist_wholesaler</th>\n",
       "      <th>dist_fancy_grocers</th>\n",
       "    </tr>\n",
       "  </thead>\n",
       "  <tbody>\n",
       "    <tr>\n",
       "      <th>0</th>\n",
       "      <td>3817 DUDLEY ST, LINCOLN, NE  68503</td>\n",
       "      <td>LINCOLN</td>\n",
       "      <td>68503</td>\n",
       "      <td>40.825578444444446</td>\n",
       "      <td>-96.66587981481482</td>\n",
       "      <td>3817 DUDLEY ST</td>\n",
       "      <td>None</td>\n",
       "      <td>None</td>\n",
       "      <td>None</td>\n",
       "      <td>None</td>\n",
       "      <td>None</td>\n",
       "      <td>None</td>\n",
       "      <td>None</td>\n",
       "    </tr>\n",
       "    <tr>\n",
       "      <th>1</th>\n",
       "      <td>802 N LAKESHORE DR, LINCOLN, NE  68528</td>\n",
       "      <td>LINCOLN</td>\n",
       "      <td>68528</td>\n",
       "      <td>40.82969630114534</td>\n",
       "      <td>-96.74044722145769</td>\n",
       "      <td>802 N LAKESHORE DR</td>\n",
       "      <td>None</td>\n",
       "      <td>None</td>\n",
       "      <td>None</td>\n",
       "      <td>None</td>\n",
       "      <td>None</td>\n",
       "      <td>None</td>\n",
       "      <td>None</td>\n",
       "    </tr>\n",
       "    <tr>\n",
       "      <th>2</th>\n",
       "      <td>1208 STARVIEW LN, LINCOLN, NE  68512</td>\n",
       "      <td>LINCOLN</td>\n",
       "      <td>68512</td>\n",
       "      <td>40.75890030482155</td>\n",
       "      <td>-96.70395435186813</td>\n",
       "      <td>1208 STARVIEW LN</td>\n",
       "      <td>None</td>\n",
       "      <td>None</td>\n",
       "      <td>None</td>\n",
       "      <td>None</td>\n",
       "      <td>None</td>\n",
       "      <td>None</td>\n",
       "      <td>None</td>\n",
       "    </tr>\n",
       "    <tr>\n",
       "      <th>3</th>\n",
       "      <td>9400 LARGE'S CT, LINCOLN, NE  68512</td>\n",
       "      <td>LINCOLN</td>\n",
       "      <td>68512</td>\n",
       "      <td>40.71798914143969</td>\n",
       "      <td>-96.68330070791247</td>\n",
       "      <td>9400 LARGE'S CT</td>\n",
       "      <td>None</td>\n",
       "      <td>None</td>\n",
       "      <td>None</td>\n",
       "      <td>None</td>\n",
       "      <td>None</td>\n",
       "      <td>None</td>\n",
       "      <td>None</td>\n",
       "    </tr>\n",
       "    <tr>\n",
       "      <th>4</th>\n",
       "      <td>2100 FOLKWAYS BLVD, LINCOLN, NE  68521</td>\n",
       "      <td>LINCOLN</td>\n",
       "      <td>68521</td>\n",
       "      <td>40.866912</td>\n",
       "      <td>-96.689811</td>\n",
       "      <td>2100 FOLKWAYS BLVD</td>\n",
       "      <td>None</td>\n",
       "      <td>None</td>\n",
       "      <td>None</td>\n",
       "      <td>None</td>\n",
       "      <td>None</td>\n",
       "      <td>None</td>\n",
       "      <td>None</td>\n",
       "    </tr>\n",
       "  </tbody>\n",
       "</table>\n",
       "</div>"
      ],
      "text/plain": [
       "                                    Situs      city     zip  \\\n",
       "0      3817 DUDLEY ST, LINCOLN, NE  68503   LINCOLN   68503   \n",
       "1  802 N LAKESHORE DR, LINCOLN, NE  68528   LINCOLN   68528   \n",
       "2    1208 STARVIEW LN, LINCOLN, NE  68512   LINCOLN   68512   \n",
       "3     9400 LARGE'S CT, LINCOLN, NE  68512   LINCOLN   68512   \n",
       "4  2100 FOLKWAYS BLVD, LINCOLN, NE  68521   LINCOLN   68521   \n",
       "\n",
       "                  lat                 lon                addr dist_park  \\\n",
       "0  40.825578444444446  -96.66587981481482      3817 DUDLEY ST      None   \n",
       "1   40.82969630114534  -96.74044722145769  802 N LAKESHORE DR      None   \n",
       "2   40.75890030482155  -96.70395435186813    1208 STARVIEW LN      None   \n",
       "3   40.71798914143969  -96.68330070791247     9400 LARGE'S CT      None   \n",
       "4           40.866912          -96.689811  2100 FOLKWAYS BLVD      None   \n",
       "\n",
       "  dist_downtown dist_airport dist_mall dist_golf dist_wholesaler  \\\n",
       "0          None         None      None      None            None   \n",
       "1          None         None      None      None            None   \n",
       "2          None         None      None      None            None   \n",
       "3          None         None      None      None            None   \n",
       "4          None         None      None      None            None   \n",
       "\n",
       "  dist_fancy_grocers  \n",
       "0               None  \n",
       "1               None  \n",
       "2               None  \n",
       "3               None  \n",
       "4               None  "
      ]
     },
     "execution_count": 6,
     "metadata": {},
     "output_type": "execute_result"
    }
   ],
   "source": [
    "df.head()"
   ]
  },
  {
   "cell_type": "code",
   "execution_count": 7,
   "id": "818c6623",
   "metadata": {},
   "outputs": [],
   "source": [
    "for index, row in df.iterrows():\n",
    "    df.iloc[index, df.columns.get_loc('dist_park')] = dist_from_feature(park_coords, row)\n",
    "    df.iloc[index, df.columns.get_loc('dist_downtown')] = dist_from_feature(downtown_coords, row)\n",
    "    df.iloc[index, df.columns.get_loc('dist_airport')] = dist_from_feature(airport_coords, row)\n",
    "    df.iloc[index, df.columns.get_loc('dist_mall')] = dist_from_feature(mall_coords, row)\n",
    "    df.iloc[index, df.columns.get_loc('dist_golf')] = dist_from_feature(golf_coords, row)\n",
    "    df.iloc[index, df.columns.get_loc('dist_wholesaler')] = dist_from_feature(wholesaler_coords, row)\n",
    "    df.iloc[index, df.columns.get_loc('dist_fancy_grocers')] = dist_from_feature(fancy_groceries_coords, row)"
   ]
  },
  {
   "cell_type": "code",
   "execution_count": 8,
   "id": "2a4281fe",
   "metadata": {},
   "outputs": [],
   "source": [
    "from sklearn.cluster import KMeans\n",
    "\n",
    "X_cluster_on = df[['lat', 'lon']]\n",
    "best_cluster_size = 11\n",
    "kmeans = KMeans(n_clusters=best_cluster_size).fit(X_cluster_on)\n",
    "df['cluster'] = kmeans.labels_"
   ]
  },
  {
   "cell_type": "code",
   "execution_count": 9,
   "id": "59a10178",
   "metadata": {},
   "outputs": [
    {
     "name": "stdout",
     "output_type": "stream",
     "text": [
      "                                    Situs      city     zip  \\\n",
      "0      3817 DUDLEY ST, LINCOLN, NE  68503   LINCOLN   68503   \n",
      "1  802 N LAKESHORE DR, LINCOLN, NE  68528   LINCOLN   68528   \n",
      "2    1208 STARVIEW LN, LINCOLN, NE  68512   LINCOLN   68512   \n",
      "3     9400 LARGE'S CT, LINCOLN, NE  68512   LINCOLN   68512   \n",
      "4  2100 FOLKWAYS BLVD, LINCOLN, NE  68521   LINCOLN   68521   \n",
      "\n",
      "                  lat                 lon                addr dist_park  \\\n",
      "0  40.825578444444446  -96.66587981481482      3817 DUDLEY ST  1.848599   \n",
      "1   40.82969630114534  -96.74044722145769  802 N LAKESHORE DR  3.506511   \n",
      "2   40.75890030482155  -96.70395435186813    1208 STARVIEW LN  3.190456   \n",
      "3   40.71798914143969  -96.68330070791247     9400 LARGE'S CT  5.739261   \n",
      "4           40.866912          -96.689811  2100 FOLKWAYS BLVD  3.547849   \n",
      "\n",
      "  dist_downtown dist_airport dist_mall dist_golf dist_wholesaler  \\\n",
      "0      2.401779     6.603904  1.670535  2.278144        2.373377   \n",
      "1      1.845046     2.741166  5.512903  2.498796        3.630034   \n",
      "2      3.970222     7.333496   1.82934   1.64476        1.353832   \n",
      "3      6.923827    10.265207  1.558618  4.222215        1.687122   \n",
      "4       3.65266     5.498634   4.50689  1.437581        0.756493   \n",
      "\n",
      "  dist_fancy_grocers  cluster  \n",
      "0           1.651723       10  \n",
      "1           5.434833        8  \n",
      "2           1.965481        2  \n",
      "3           1.646811        2  \n",
      "4           4.575803        5  \n"
     ]
    }
   ],
   "source": [
    "df = df.dropna()\n",
    "print(df.head())"
   ]
  },
  {
   "cell_type": "code",
   "execution_count": 10,
   "id": "37158c29",
   "metadata": {},
   "outputs": [],
   "source": [
    "df.to_csv('./results_closest_features.csv')"
   ]
  },
  {
   "cell_type": "code",
   "execution_count": 11,
   "id": "ceb20434",
   "metadata": {},
   "outputs": [
    {
     "data": {
      "image/png": "[encoded data removed]",
      "text/plain": [
       "<Figure size 432x288 with 2 Axes>"
      ]
     },
     "metadata": {
      "needs_background": "light"
     },
     "output_type": "display_data"
    }
   ],
   "source": [
    "import matplotlib.pyplot as plt\n",
    "\n",
    "feat = 'dist_downtown'\n",
    "df_sample = df # df.sample(100)\n",
    "\n",
    "df_sample =df_sample[df_sample[feat] != 'None']\n",
    "df_sample[feat] = df_sample[feat].astype(float)\n",
    "df_sample['lat'] = df_sample['lat'].astype(float)\n",
    "df_sample['lon'] = df_sample['lon'].astype(float)\n",
    "\n",
    "\n",
    "res = plt.scatter(x=df_sample.lon.values, y=df_sample.lat.values, c = df_sample.dist_downtown.values, cmap = 'autumn');\n",
    "\n",
    "for coord in downtown_coords:\n",
    "    plt.scatter(coord[1], coord[0], c = 'black')\n",
    "\n",
    "plt.xlabel(\"longitude\")\n",
    "plt.ylabel('latitude')\n",
    "ax = plt.gca()\n",
    "ax.set_aspect('equal', adjustable='box')\n",
    "plt.colorbar(res)\n",
    "\n",
    "plt.title(\"Distance from Downtown\")\n",
    "plt.show()"
   ]
  },
  {
   "cell_type": "code",
   "execution_count": 12,
   "id": "565c5ab4",
   "metadata": {},
   "outputs": [
    {
     "data": {
      "image/png": "[encoded data removed]",
      "text/plain": [
       "<Figure size 432x288 with 2 Axes>"
      ]
     },
     "metadata": {
      "needs_background": "light"
     },
     "output_type": "display_data"
    }
   ],
   "source": [
    "feat = 'dist_park'\n",
    "\n",
    "df_sample = df_sample[df_sample[feat] != 'None']\n",
    "df_sample[feat] = df_sample[feat].astype(float)\n",
    "df_sample['lat'] = df_sample['lat'].astype(float)\n",
    "df_sample['lon'] = df_sample['lon'].astype(float)\n",
    "\n",
    "\n",
    "res = plt.scatter(x=df_sample.lon.values, y=df_sample.lat.values, c = df_sample.dist_park.values, cmap = 'autumn');\n",
    "\n",
    "for coord in park_coords:\n",
    "    plt.scatter(coord[1], coord[0], c = 'black')\n",
    "\n",
    "plt.xlabel(\"longitude\")\n",
    "plt.ylabel('latitude')\n",
    "ax = plt.gca()\n",
    "ax.set_aspect('equal', adjustable='box')\n",
    "plt.colorbar(res)\n",
    "\n",
    "plt.title(\"Distance from Park\")\n",
    "plt.show()"
   ]
  },
  {
   "cell_type": "code",
   "execution_count": 13,
   "id": "fb44b947",
   "metadata": {},
   "outputs": [
    {
     "data": {
      "image/png": "[encoded data removed]",
      "text/plain": [
       "<Figure size 432x288 with 2 Axes>"
      ]
     },
     "metadata": {
      "needs_background": "light"
     },
     "output_type": "display_data"
    }
   ],
   "source": [
    "feat = 'dist_airport'\n",
    "\n",
    "df_sample =df_sample[df_sample[feat] != 'None']\n",
    "df_sample[feat] = df_sample[feat].astype(float)\n",
    "df_sample['lat'] = df_sample['lat'].astype(float)\n",
    "df_sample['lon'] = df_sample['lon'].astype(float)\n",
    "\n",
    "\n",
    "res = plt.scatter(x=df_sample.lon.values, y=df_sample.lat.values, c = df_sample.dist_airport.values, cmap = 'autumn');\n",
    "\n",
    "for coord in airport_coords:\n",
    "    plt.scatter(coord[1], coord[0], c = 'black')\n",
    "\n",
    "plt.xlabel(\"longitude\")\n",
    "plt.ylabel('latitude')\n",
    "ax = plt.gca()\n",
    "ax.set_aspect('equal', adjustable='box')\n",
    "plt.colorbar(res)\n",
    "\n",
    "plt.title(\"Distance from Airport\")\n",
    "plt.show()"
   ]
  },
  {
   "cell_type": "code",
   "execution_count": null,
   "id": "c2101ce9",
   "metadata": {},
   "outputs": [],
   "source": [
    "feat = 'dist_mall'\n",
    "\n",
    "df_sample =df_sample[df_sample[feat] != 'None']\n",
    "df_sample[feat] = df_sample[feat].astype(float)\n",
    "df_sample['lat'] = df_sample['lat'].astype(float)\n",
    "df_sample['lon'] = df_sample['lon'].astype(float)\n",
    "\n",
    "\n",
    "res = plt.scatter(x=df_sample.lon.values, y=df_sample.lat.values, c = df_sample.dist_mall.values, cmap = 'autumn');\n",
    "\n",
    "for coord in mall_coords:\n",
    "    plt.scatter(coord[1], coord[0], c = 'black')\n",
    "\n",
    "plt.xlabel(\"longitude\")\n",
    "plt.ylabel('latitude')\n",
    "ax = plt.gca()\n",
    "ax.set_aspect('equal', adjustable='box')\n",
    "plt.colorbar(res)\n",
    "\n",
    "plt.title(\"Distance from Mall\")\n",
    "plt.show()"
   ]
  },
  {
   "cell_type": "code",
   "execution_count": null,
   "id": "fd4dc0f5",
   "metadata": {},
   "outputs": [],
   "source": [
    "feat = 'dist_golf'\n",
    "\n",
    "df_sample =df_sample[df_sample[feat] != 'None']\n",
    "df_sample[feat] = df_sample[feat].astype(float)\n",
    "df_sample['lat'] = df_sample['lat'].astype(float)\n",
    "df_sample['lon'] = df_sample['lon'].astype(float)\n",
    "\n",
    "\n",
    "res = plt.scatter(x=df_sample.lon.values, y=df_sample.lat.values, c = df_sample.dist_golf.values, cmap = 'autumn');\n",
    "\n",
    "for coord in golf_coords:\n",
    "    plt.scatter(coord[1], coord[0], c = 'black')\n",
    "\n",
    "plt.xlabel(\"longitude\")\n",
    "plt.ylabel('latitude')\n",
    "ax = plt.gca()\n",
    "ax.set_aspect('equal', adjustable='box')\n",
    "plt.colorbar(res)\n",
    "\n",
    "plt.title(\"Distance from Golf\")\n",
    "plt.show()"
   ]
  },
  {
   "cell_type": "code",
   "execution_count": null,
   "id": "485b0765",
   "metadata": {},
   "outputs": [],
   "source": [
    "feat = 'dist_wholesaler'\n",
    "\n",
    "df_sample =df_sample[df_sample[feat] != 'None']\n",
    "df_sample[feat] = df_sample[feat].astype(float)\n",
    "df_sample['lat'] = df_sample['lat'].astype(float)\n",
    "df_sample['lon'] = df_sample['lon'].astype(float)\n",
    "\n",
    "\n",
    "res = plt.scatter(x=df_sample.lon.values, y=df_sample.lat.values, c = df_sample.dist_wholesaler.values, cmap = 'autumn');\n",
    "\n",
    "for coord in wholesaler_coords:\n",
    "    plt.scatter(coord[1], coord[0], c = 'black')\n",
    "\n",
    "plt.xlabel(\"longitude\")\n",
    "plt.ylabel('latitude')\n",
    "ax = plt.gca()\n",
    "ax.set_aspect('equal', adjustable='box')\n",
    "plt.colorbar(res)\n",
    "\n",
    "plt.title(\"Distance from Wholesaler\")\n",
    "plt.show()"
   ]
  },
  {
   "cell_type": "code",
   "execution_count": null,
   "id": "d18721d1",
   "metadata": {},
   "outputs": [],
   "source": [
    "feat = 'dist_fancy_grocers'\n",
    "\n",
    "df_sample =df_sample[df_sample[feat] != 'None']\n",
    "df_sample[feat] = df_sample[feat].astype(float)\n",
    "df_sample['lat'] = df_sample['lat'].astype(float)\n",
    "df_sample['lon'] = df_sample['lon'].astype(float)\n",
    "\n",
    "\n",
    "res = plt.scatter(x=df_sample.lon.values, y=df_sample.lat.values, c = df_sample.dist_fancy_grocers.values, cmap = 'autumn');\n",
    "\n",
    "for coord in fancy_groceries_coords:\n",
    "    plt.scatter(coord[1], coord[0], c = 'black')\n",
    "\n",
    "plt.xlabel(\"longitude\")\n",
    "plt.ylabel('latitude')\n",
    "ax = plt.gca()\n",
    "ax.set_aspect('equal', adjustable='box')\n",
    "plt.colorbar(res)\n",
    "\n",
    "plt.title(\"Distance from Fancy Grocers\")\n",
    "plt.show()"
   ]
  },
  {
   "cell_type": "code",
   "execution_count": null,
   "id": "1710582c",
   "metadata": {},
   "outputs": [],
   "source": []
  }
 ],
 "metadata": {
  "kernelspec": {
   "display_name": "Python 3 (ipykernel)",
   "language": "python",
   "name": "python3"
  },
  "language_info": {
   "codemirror_mode": {
    "name": "ipython",
    "version": 3
   },
   "file_extension": ".py",
   "mimetype": "text/x-python",
   "name": "python",
   "nbconvert_exporter": "python",
   "pygments_lexer": "ipython3",
   "version": "3.9.1"
  }
 },
 "nbformat": 4,
 "nbformat_minor": 5
}
